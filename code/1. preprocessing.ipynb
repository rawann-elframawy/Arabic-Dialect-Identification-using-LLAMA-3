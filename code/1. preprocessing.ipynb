{
 "cells": [
  {
   "cell_type": "markdown",
   "metadata": {},
   "source": [
    "#### Import Datasets:"
   ]
  },
  {
   "cell_type": "code",
   "execution_count": 3,
   "metadata": {},
   "outputs": [],
   "source": [
    "import re\n",
    "import nltk\n",
    "import numpy as np\n",
    "import pandas as pd\n",
    "import seaborn as sns\n",
    "from tqdm import tqdm\n",
    "import arabic_reshaper\n",
    "import pyarabic.araby as araby\n",
    "from wordcloud import WordCloud\n",
    "import matplotlib.pyplot as plt\n",
    "from nltk.corpus import stopwords\n",
    "from bidi.algorithm import get_display\n",
    "from nltk.tokenize import word_tokenize\n",
    "from sklearn.model_selection import train_test_split"
   ]
  },
  {
   "cell_type": "code",
   "execution_count": 4,
   "metadata": {},
   "outputs": [
    {
     "name": "stderr",
     "output_type": "stream",
     "text": [
      "[nltk_data] Downloading package punkt to\n",
      "[nltk_data]     C:\\Users\\Rawan\\AppData\\Roaming\\nltk_data...\n",
      "[nltk_data]   Package punkt is already up-to-date!\n",
      "[nltk_data] Downloading package stopwords to\n",
      "[nltk_data]     C:\\Users\\Rawan\\AppData\\Roaming\\nltk_data...\n",
      "[nltk_data]   Package stopwords is already up-to-date!\n"
     ]
    },
    {
     "data": {
      "text/plain": [
       "True"
      ]
     },
     "execution_count": 4,
     "metadata": {},
     "output_type": "execute_result"
    }
   ],
   "source": [
    "nltk.download('punkt')\n",
    "nltk.download('stopwords')"
   ]
  },
  {
   "cell_type": "markdown",
   "metadata": {},
   "source": [
    "#### Import Data:"
   ]
  },
  {
   "cell_type": "code",
   "execution_count": 7,
   "metadata": {},
   "outputs": [
    {
     "name": "stdout",
     "output_type": "stream",
     "text": [
      "train size: 492235\n",
      "test size: 3797\n",
      "Total: 496032\n"
     ]
    }
   ],
   "source": [
    "code_to_country = {\n",
    "    \"AE\": \"United Arab Emirates\",\n",
    "    \"BH\": \"Bahrain\",\n",
    "    \"DZ\": \"Algeria\",\n",
    "    \"EG\": \"Egypt\",\n",
    "    \"IQ\": \"Iraq\",\n",
    "    \"JO\": \"Jordan\",\n",
    "    \"KW\": \"Kuwait\",\n",
    "    \"LB\": \"Lebanon\",\n",
    "    \"LY\": \"Libya\",\n",
    "    \"MA\": \"Morocco\",\n",
    "    \"OM\": \"Oman\",\n",
    "    \"PS\": \"Palestine\",\n",
    "    \"PL\": \"Palestine\",\n",
    "    \"QA\": \"Qatar\",\n",
    "    \"SA\": \"Saudi Arabia\",\n",
    "    \"SD\": \"Sudan\",\n",
    "    \"SY\": \"Syria\",\n",
    "    \"TN\": \"Tunisia\",\n",
    "    \"YE\": \"Yemen\",\n",
    "    \"MSA\": \"Modern Standard Arabic\"\n",
    "}\n",
    "\n",
    "\n",
    "def read_data(path):\n",
    "    data = {'label': [], 'text': []}\n",
    "    \n",
    "    with open(path, 'r', encoding='utf-8') as file:\n",
    "        for line in file:\n",
    "            try:\n",
    "                label, text = line.strip().split(' ', 1)\n",
    "            except: # Discard missing/corrupt data\n",
    "                pass\n",
    "            \n",
    "            label = label.replace(\"__label__\", \"\")\n",
    "            data['label'].append(code_to_country[label])\n",
    "            data['text'].append(text)\n",
    "            \n",
    "    return pd.DataFrame(data)\n",
    "\n",
    "\n",
    "main_dir = 'D:/NLP Project/Arabic-Dialect-Identification-using-LLAMA-3/data/'\n",
    "train = read_data(main_dir + 'QADI_train.txt')\n",
    "test = read_data(main_dir + 'QADI_test .txt')\n",
    "train.to_csv(main_dir + \"train.csv\",index=False)\n",
    "test.to_csv(main_dir + \"test.csv\",index=False)\n",
    "\n",
    "\n",
    "\n",
    "train_size, test_size = len(train), len(test)\n",
    "print(\"train size:\", train_size)\n",
    "print(\"test size:\", test_size)\n",
    "print(\"Total:\", train_size + test_size)"
   ]
  },
  {
   "cell_type": "markdown",
   "metadata": {},
   "source": [
    "#### Sample part of dataset (10000 row from each class or dialect):\n",
    "    \n",
    "- I choose to sample the longest length rows in eacg class, some papers prove that the accutacy increase with the increasing of text length.\n",
    "\n",
    "- I sample only 10000 row from each label."
   ]
  },
  {
   "cell_type": "code",
   "execution_count": 8,
   "metadata": {},
   "outputs": [],
   "source": [
    "train[\"text_length\"] = train[\"text\"].apply(len)\n",
    "train = train.sort_values(by=\"text_length\",ascending=False)\n",
    "train.reset_index(inplace=True,drop=True)\n",
    "\n",
    "n_samples = 10000\n",
    "\n",
    "train_subset = pd.DataFrame()\n",
    "for label in (np.unique(train[\"label\"])):\n",
    "    df_label= train[train[\"label\"]==label].head(n_samples)\n",
    "    train_subset= pd.concat([train_subset,df_label])\n",
    "\n",
    "train_subset.reset_index(inplace=True,drop=True)"
   ]
  },
  {
   "cell_type": "markdown",
   "metadata": {},
   "source": [
    "#### Preprocessing Data:"
   ]
  },
  {
   "cell_type": "code",
   "execution_count": 9,
   "metadata": {},
   "outputs": [],
   "source": [
    "arabic_stopwords = set(stopwords.words('arabic'))\n",
    "arabic_stopwords.update(('الله', 'والله', 'اللي','علي','على','مع','لا','من','ما','في','الي','هو','انا','أنا','اله'))\n",
    "\n",
    "def clean_text(text):\n",
    "    text = re.sub(r'<[^>]+>', '', text)  # Remove HTML tags\n",
    "    text = re.sub(r'[^\\w\\s]', '', text)  # Remove non-alphanumeric characters\n",
    "    text = re.sub(r'[A-Za-z]', '', text)  # Remove English letters (assuming Arabic text)\n",
    "    text = re.sub(r'(.)\\1+', r'\\1', text).strip()  # Remove consecutive duplicate characters and strip leading/trailing spaces\n",
    "    text = ' '.join(w for w in araby.tokenize(text) if len(w)>1)  # Tokenize Arabic text and join tokens with a space if their length is greater than 1\n",
    "    return text.strip()  # Strip leading and trailing spaces\n",
    "#==========================================================================\n",
    "\n",
    "# Function to normalize Arabic text\n",
    "def normalize_text(text, stem=False):    \n",
    "    # Normalize Arabic characters\n",
    "    text = re.sub(\"[إأآا]\", \"ا\", text)\n",
    "    text = re.sub(\"ى\", \"ي\", text)\n",
    "    text = re.sub(\"ؤ\", \"ء\", text)\n",
    "    text = re.sub(\"ئ\", \"ء\", text)\n",
    "    text = re.sub(\"ة\", \"ه\", text)\n",
    "    text = re.sub(\"گ\", \"ك\", text)\n",
    "    # Perform stemming if specified\n",
    "    if stem:\n",
    "        stemmer = FarasaStemmer()\n",
    "        text = stemmer.stem(text)\n",
    "    return text\n",
    "#==========================================================================\n",
    "\n",
    "# Function to remove stopwords from text\n",
    "def remove_stopwords(text):\n",
    "    tokens = word_tokenize(text) # Tokenize the text\n",
    "    filtered_tokens = [word for word in tokens if word not in arabic_stopwords] # Remove stopwords\n",
    "    filtered_text = ' '.join(filtered_tokens) # Join the filtered tokens back into text\n",
    "    return filtered_text\n",
    "#==========================================================================\n",
    "\n",
    "# Function to preprocess text by cleaning, normalizing, and removing stopwords\n",
    "def preprocess(text):\n",
    "    text = clean_text(text) # Clean the text\n",
    "    text = remove_stopwords(text) # Remove stopwords\n",
    "    text = normalize_text(text) # Normalize the text\n",
    "    return text"
   ]
  },
  {
   "cell_type": "code",
   "execution_count": 10,
   "metadata": {},
   "outputs": [],
   "source": [
    "train_subset['text_cleaned'] = train_subset['text'].apply(preprocess)\n",
    "test['text_cleaned'] = test['text'].apply(preprocess)"
   ]
  },
  {
   "cell_type": "code",
   "execution_count": 12,
   "metadata": {},
   "outputs": [],
   "source": [
    "train_subset.to_csv(main_dir + \"train_cleaned.csv\",index=False)\n",
    "test.to_csv(main_dir + \"test_cleaned.csv\",index=False)"
   ]
  }
 ],
 "metadata": {
  "kernelspec": {
   "display_name": "Python 3",
   "language": "python",
   "name": "python3"
  },
  "language_info": {
   "codemirror_mode": {
    "name": "ipython",
    "version": 3
   },
   "file_extension": ".py",
   "mimetype": "text/x-python",
   "name": "python",
   "nbconvert_exporter": "python",
   "pygments_lexer": "ipython3",
   "version": "3.8.10"
  }
 },
 "nbformat": 4,
 "nbformat_minor": 2
}
